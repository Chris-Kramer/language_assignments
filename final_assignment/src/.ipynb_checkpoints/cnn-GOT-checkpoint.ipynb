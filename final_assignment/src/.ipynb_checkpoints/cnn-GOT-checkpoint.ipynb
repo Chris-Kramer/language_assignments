{
 "cells": [
  {
   "cell_type": "code",
   "execution_count": 1,
   "metadata": {},
   "outputs": [],
   "source": [
    "# system tools\n",
    "from pathlib import Path #I've started using Pathlib rather than os.path since it is much more convenient\n",
    "import sys\n",
    "import os\n",
    "sys.path.append(os.path.join(\"..\"))\n",
    "\n",
    "# pandas, numpy, gensim\n",
    "import pandas as pd\n",
    "import numpy as np\n",
    "import gensim.downloader\n",
    "import re\n",
    "\n",
    "# import my classifier utility functions - see the Github repo!\n",
    "import utils.classifier_utils as clf\n",
    "# import cnn utility functions\n",
    "import utils.cnn_utility as cnn\n",
    "\n",
    "# tools from tensorflow\n",
    "import tensorflow as tf\n",
    "from tensorflow.keras.models import Sequential\n",
    "from tensorflow.keras.layers import (Dense, Embedding, \n",
    "                                     Flatten, GlobalMaxPool1D, Conv1D)\n",
    "from tensorflow.keras.optimizers import SGD, Adam #Our optimizers (Adam er meget god og hurtig)\n",
    "from tensorflow.keras import backend as K\n",
    "from tensorflow.keras.utils import plot_model\n",
    "from tensorflow.keras.preprocessing.text import Tokenizer\n",
    "from tensorflow.keras.preprocessing.sequence import pad_sequences\n",
    "from tensorflow.keras.regularizers import L2 #Regularization\n",
    "from tensorflow.keras.regularizers import L1 #Regularization\n",
    "from tensorflow.keras.layers import Dropout\n",
    "\n",
    "#Sklean\n",
    "from sklearn.preprocessing import LabelBinarizer\n",
    "from sklearn.model_selection import train_test_split\n",
    "from sklearn.metrics import classification_report"
   ]
  },
  {
   "cell_type": "markdown",
   "metadata": {},
   "source": [
    "## Preprocessing data"
   ]
  },
  {
   "cell_type": "code",
   "execution_count": 2,
   "metadata": {},
   "outputs": [],
   "source": [
    "#load raw data set\n",
    "raw_df = pd.read_csv(Path(\"../data/Game_of_Thrones_Script.csv\")) \n",
    "#Only keep last name\n",
    "raw_df[\"Name\"] = raw_df[\"Name\"].str.split().str[-1]\n",
    "# Remove \"man\", since this is a generic term for unnamed characters\n",
    "raw_df = raw_df[raw_df[\"Name\"] != \"man\"]\n",
    "# Save each last name (the name of the family house)\n",
    "houses = raw_df[\"Name\"].unique()\n",
    "\n",
    "#Empty dataframe to append values\n",
    "final_df= pd.DataFrame()\n",
    "#For each house in list of houses/last names\n",
    "for house in houses:\n",
    "    #Get all sentences uttered by members of current house\n",
    "    houses_df = raw_df[raw_df[\"Name\"] == house]\n",
    "    #For each episode that a member of the house occurs in\n",
    "    for episode in houses_df[\"Episode Title\"].unique():\n",
    "        # Create af dataframe containing each sentence this house utters in the episode\n",
    "        episode_df = houses_df[houses_df[\"Episode Title\"] == episode]\n",
    "        # Concactinate the sentences to one long string\n",
    "        episode_sentences  = \" \".join(episode_df[\"Sentence\"])\n",
    "        #Create a dictionary with the name and the concactinated sentences\n",
    "        character_lines_df = {\"house\": house, \"episode\": episode_sentences}\n",
    "        #append dictionary to dataframe\n",
    "        final_df = final_df.append(character_lines_df, ignore_index = True)\n",
    "\n",
    "# Remove rows without values\n",
    "final_df = final_df[final_df[\"episode\"] != \"\"]\n",
    "\n",
    "#Remove houses that only appear in less than 25 episodes\n",
    "#For each house\n",
    "for house in houses:\n",
    "    #If the lenght of the query is less than 25\n",
    "    if len(final_df[final_df[\"house\"]==house]) < 45:\n",
    "        #Remove all rows, with this house\n",
    "        final_df = final_df[final_df[\"house\"] != house]\n",
    "\n",
    "# save episodes in variable\n",
    "episodes = final_df[\"episode\"]\n",
    "# Save labels (house name) in a variable\n",
    "labels = final_df[\"house\"]\n",
    "#Get the label names\n",
    "label_names = labels.unique()\n",
    "        \n",
    "#Get the lenght of the longest entry\n",
    "lengths = [] #array with all lengths\n",
    "i = 0 # Counter\n",
    "for i in range(0,len(episodes)):\n",
    "    #Get the length of the entry\n",
    "    length = len(episodes.iloc[i].split())\n",
    "    lengths.append(length)\n",
    "    i=+1\n",
    "#Save the length of the longest episode\n",
    "highest_length = max(lengths)"
   ]
  },
  {
   "cell_type": "code",
   "execution_count": 3,
   "metadata": {},
   "outputs": [],
   "source": [
    "# train and test split using skleardfn\n",
    "X_train, X_test, y_train, y_test = train_test_split(episodes,  \n",
    "                                                    labels, \n",
    "                                                    test_size=0.20, \n",
    "                                                    random_state=42)\n",
    "\n",
    "lb = LabelBinarizer()\n",
    "#Transform labels 0-9 into binary labels\n",
    "y_train = lb.fit_transform(y_train)\n",
    "y_test = lb.fit_transform(y_test)"
   ]
  },
  {
   "cell_type": "code",
   "execution_count": 4,
   "metadata": {},
   "outputs": [],
   "source": [
    "# initialize tokenizer\n",
    "tokenizer = Tokenizer(num_words=10000) #Vi vil kun have en længde på 5.000\n",
    "# fit to training data \n",
    "tokenizer.fit_on_texts(X_train) #Vi fylder altså tokenizeren med voires træningsdata\n",
    "\n",
    "# tokenized training and test data\n",
    "X_train_toks = tokenizer.texts_to_sequences(X_train) #Vi transformerer teksten til sequencer\n",
    "X_test_toks = tokenizer.texts_to_sequences(X_test)\n",
    "\n",
    "# overall vocabulary size\n",
    "vocab_size = len(tokenizer.word_index) + 1  # Adding 1 because of reserved 0 index"
   ]
  },
  {
   "cell_type": "code",
   "execution_count": 5,
   "metadata": {},
   "outputs": [],
   "source": [
    "# max length for a doc\n",
    "maxlen = highest_length\n",
    "# Vi sætter alle dokumenterne til at have en standard længde (man kan f.eks. finde det længste dokument)\n",
    "# pad training data to maxlen\n",
    "X_train_pad = pad_sequences(X_train_toks, \n",
    "                            padding='post', # sequences can be padded \"pre\" or \"post\", post betyder, at det sættes til sidst\n",
    "                            maxlen=maxlen)\n",
    "# pad testing data to maxlen\n",
    "X_test_pad = pad_sequences(X_test_toks, \n",
    "                           padding='post', \n",
    "                           maxlen=maxlen)"
   ]
  },
  {
   "cell_type": "code",
   "execution_count": 6,
   "metadata": {},
   "outputs": [],
   "source": [
    "embedding_dim = 100\n",
    "embedding_matrix = cnn.create_embedding_matrix('../data/glove/glove.6B.100d.txt',\n",
    "                                           tokenizer.word_index, \n",
    "                                           embedding_dim)"
   ]
  },
  {
   "cell_type": "code",
   "execution_count": 7,
   "metadata": {},
   "outputs": [
    {
     "name": "stdout",
     "output_type": "stream",
     "text": [
      "Model: \"sequential\"\n",
      "_________________________________________________________________\n",
      "Layer (type)                 Output Shape              Param #   \n",
      "=================================================================\n",
      "embedding (Embedding)        (None, 2174, 100)         613600    \n",
      "_________________________________________________________________\n",
      "conv1d (Conv1D)              (None, 2172, 60)          18060     \n",
      "_________________________________________________________________\n",
      "dropout (Dropout)            (None, 2172, 60)          0         \n",
      "_________________________________________________________________\n",
      "global_max_pooling1d (Global (None, 60)                0         \n",
      "_________________________________________________________________\n",
      "dense (Dense)                (None, 25)                1525      \n",
      "_________________________________________________________________\n",
      "dropout_1 (Dropout)          (None, 25)                0         \n",
      "_________________________________________________________________\n",
      "dense_1 (Dense)              (None, 6)                 156       \n",
      "=================================================================\n",
      "Total params: 633,341\n",
      "Trainable params: 633,341\n",
      "Non-trainable params: 0\n",
      "_________________________________________________________________\n",
      "('Failed to import pydot. You must `pip install pydot` and install graphviz (https://graphviz.gitlab.io/download/), ', 'for `pydotprint` to work.')\n"
     ]
    }
   ],
   "source": [
    "l2 = L2(0.000001) #Reularizer (Cost function) \n",
    "l1 = L1(0.000001) #Reularizer (Cost function) \n",
    "# New model\n",
    "model = Sequential()\n",
    "\n",
    "# Embedding -> CONV+ReLU -> MaxPool -> FC+ReLU -> Out\n",
    "model.add(Embedding(vocab_size,                  # vocab size from Tokenizer()\n",
    "                    embedding_dim,               # embedding input layer size\n",
    "                    weights=[embedding_matrix],  # pretrained embeddings\n",
    "                    input_length=maxlen,         # maxlen of padded doc\n",
    "                    trainable=True))             # trainable embeddings\n",
    "model.add(Conv1D(60, 3, # 128 inputs, 5 størrelses kernel\n",
    "                activation='relu',\n",
    "                kernel_regularizer=l2))# L2 regularization\n",
    "model.add(Dropout(0.2))\n",
    "model.add(GlobalMaxPool1D())\n",
    "model.add(Dense(25, activation='relu', kernel_regularizer=l1))\n",
    "model.add(Dropout(0.2))\n",
    "model.add(Dense(len(label_names), activation='softmax'))\n",
    "\n",
    "# compile\n",
    "model.compile(loss='categorical_crossentropy',\n",
    "              optimizer=\"adam\",\n",
    "              metrics=['accuracy'])\n",
    "\n",
    "# print summary\n",
    "model.summary()\n",
    "#plot model architecture\n",
    "plot_model(model, to_file = os.path.normpath(\"../output/model_architecture.png\"), show_shapes=True, show_layer_names=True)"
   ]
  },
  {
   "cell_type": "code",
   "execution_count": 8,
   "metadata": {},
   "outputs": [
    {
     "name": "stdout",
     "output_type": "stream",
     "text": [
      "Epoch 1/31\n",
      "29/29 [==============================] - 2s 47ms/step - loss: 2.8377 - accuracy: 0.1213 - val_loss: 1.8295 - val_accuracy: 0.1667\n",
      "Epoch 2/31\n",
      "29/29 [==============================] - 1s 30ms/step - loss: 1.7631 - accuracy: 0.2350 - val_loss: 1.7116 - val_accuracy: 0.3194\n",
      "Epoch 3/31\n",
      "29/29 [==============================] - 1s 30ms/step - loss: 1.5268 - accuracy: 0.3774 - val_loss: 1.6773 - val_accuracy: 0.2639\n",
      "Epoch 4/31\n",
      "29/29 [==============================] - 1s 31ms/step - loss: 1.3977 - accuracy: 0.4951 - val_loss: 1.6811 - val_accuracy: 0.3333\n",
      "Epoch 5/31\n",
      "29/29 [==============================] - 1s 31ms/step - loss: 1.2694 - accuracy: 0.5219 - val_loss: 1.5855 - val_accuracy: 0.3472\n",
      "Epoch 6/31\n",
      "29/29 [==============================] - 1s 31ms/step - loss: 1.0740 - accuracy: 0.6202 - val_loss: 1.5389 - val_accuracy: 0.3889\n",
      "Epoch 7/31\n",
      "29/29 [==============================] - 1s 32ms/step - loss: 0.9217 - accuracy: 0.7272 - val_loss: 1.4547 - val_accuracy: 0.4444\n",
      "Epoch 8/31\n",
      "29/29 [==============================] - 1s 31ms/step - loss: 0.8224 - accuracy: 0.7722 - val_loss: 1.4435 - val_accuracy: 0.4583\n",
      "Epoch 9/31\n",
      "29/29 [==============================] - 1s 33ms/step - loss: 0.7379 - accuracy: 0.7852 - val_loss: 1.4324 - val_accuracy: 0.4722\n",
      "Epoch 10/31\n",
      "29/29 [==============================] - 1s 31ms/step - loss: 0.5919 - accuracy: 0.8693 - val_loss: 1.3768 - val_accuracy: 0.4722\n",
      "Epoch 11/31\n",
      "29/29 [==============================] - 1s 30ms/step - loss: 0.5773 - accuracy: 0.8282 - val_loss: 1.3733 - val_accuracy: 0.4167\n",
      "Epoch 12/31\n",
      "29/29 [==============================] - 1s 32ms/step - loss: 0.4609 - accuracy: 0.8682 - val_loss: 1.3505 - val_accuracy: 0.4861\n",
      "Epoch 13/31\n",
      "29/29 [==============================] - 1s 30ms/step - loss: 0.3806 - accuracy: 0.9314 - val_loss: 1.3009 - val_accuracy: 0.5139\n",
      "Epoch 14/31\n",
      "29/29 [==============================] - 1s 32ms/step - loss: 0.4192 - accuracy: 0.8852 - val_loss: 1.2917 - val_accuracy: 0.4583\n",
      "Epoch 15/31\n",
      "29/29 [==============================] - 1s 31ms/step - loss: 0.3262 - accuracy: 0.9412 - val_loss: 1.2942 - val_accuracy: 0.5139\n",
      "Epoch 16/31\n",
      "29/29 [==============================] - 1s 32ms/step - loss: 0.3087 - accuracy: 0.9375 - val_loss: 1.2556 - val_accuracy: 0.4583\n",
      "Epoch 17/31\n",
      "29/29 [==============================] - 1s 31ms/step - loss: 0.2349 - accuracy: 0.9487 - val_loss: 1.2343 - val_accuracy: 0.4861\n",
      "Epoch 18/31\n",
      "29/29 [==============================] - 1s 30ms/step - loss: 0.2459 - accuracy: 0.9179 - val_loss: 1.2374 - val_accuracy: 0.5278\n",
      "Epoch 19/31\n",
      "29/29 [==============================] - 1s 32ms/step - loss: 0.2483 - accuracy: 0.9655 - val_loss: 1.1960 - val_accuracy: 0.5417\n",
      "Epoch 20/31\n",
      "29/29 [==============================] - 1s 32ms/step - loss: 0.1461 - accuracy: 0.9866 - val_loss: 1.1753 - val_accuracy: 0.5417\n",
      "Epoch 21/31\n",
      "29/29 [==============================] - 1s 31ms/step - loss: 0.2107 - accuracy: 0.9437 - val_loss: 1.2213 - val_accuracy: 0.4722\n",
      "Epoch 22/31\n",
      "29/29 [==============================] - 1s 31ms/step - loss: 0.1886 - accuracy: 0.9739 - val_loss: 1.1415 - val_accuracy: 0.5139\n",
      "Epoch 23/31\n",
      "29/29 [==============================] - 1s 30ms/step - loss: 0.1444 - accuracy: 0.9738 - val_loss: 1.2094 - val_accuracy: 0.5000\n",
      "Epoch 24/31\n",
      "29/29 [==============================] - 1s 32ms/step - loss: 0.1681 - accuracy: 0.9659 - val_loss: 1.2030 - val_accuracy: 0.5139\n",
      "Epoch 25/31\n",
      "29/29 [==============================] - 1s 31ms/step - loss: 0.1338 - accuracy: 0.9650 - val_loss: 1.1584 - val_accuracy: 0.5417\n",
      "Epoch 26/31\n",
      "29/29 [==============================] - 1s 33ms/step - loss: 0.1401 - accuracy: 0.9584 - val_loss: 1.1894 - val_accuracy: 0.5417\n",
      "Epoch 27/31\n",
      "29/29 [==============================] - 1s 33ms/step - loss: 0.1141 - accuracy: 0.9832 - val_loss: 1.1232 - val_accuracy: 0.5417\n",
      "Epoch 28/31\n",
      "29/29 [==============================] - 1s 31ms/step - loss: 0.0675 - accuracy: 0.9938 - val_loss: 1.1661 - val_accuracy: 0.5417\n",
      "Epoch 29/31\n",
      "29/29 [==============================] - 1s 32ms/step - loss: 0.0843 - accuracy: 0.9874 - val_loss: 1.1548 - val_accuracy: 0.5417\n",
      "Epoch 30/31\n",
      "29/29 [==============================] - 1s 31ms/step - loss: 0.1160 - accuracy: 0.9727 - val_loss: 1.1976 - val_accuracy: 0.5278\n",
      "Epoch 31/31\n",
      "29/29 [==============================] - 1s 31ms/step - loss: 0.0954 - accuracy: 0.9662 - val_loss: 1.1132 - val_accuracy: 0.5556\n",
      "Training Accuracy: 1.0000\n",
      "Testing Accuracy:  0.5556\n"
     ]
    }
   ],
   "source": [
    "history = model.fit(X_train_pad, y_train,\n",
    "                    epochs=31,\n",
    "                    verbose=True,\n",
    "                    validation_data=(X_test_pad, y_test),\n",
    "                    batch_size=10)\n",
    "\n",
    "# evaluate \n",
    "loss, accuracy = model.evaluate(X_train_pad, y_train, verbose=False)\n",
    "print(\"Training Accuracy: {:.4f}\".format(accuracy))\n",
    "loss, accuracy = model.evaluate(X_test_pad, y_test, verbose=False)\n",
    "print(\"Testing Accuracy:  {:.4f}\".format(accuracy))"
   ]
  },
  {
   "cell_type": "code",
   "execution_count": 9,
   "metadata": {},
   "outputs": [
    {
     "data": {
      "image/png": "[encoded data removed]",
      "text/plain": [
       "<Figure size 432x288 with 1 Axes>"
      ]
     },
     "metadata": {},
     "output_type": "display_data"
    }
   ],
   "source": [
    "# plot\n",
    "cnn.plot_history(history, 31, \"../output/performance.png\")"
   ]
  },
  {
   "cell_type": "code",
   "execution_count": 10,
   "metadata": {},
   "outputs": [
    {
     "name": "stdout",
     "output_type": "stream",
     "text": [
      "              precision    recall  f1-score   support\n",
      "\n",
      "        snow       0.60      0.43      0.50         7\n",
      "       stark       0.70      0.82      0.76        17\n",
      "     greyjoy       0.50      0.38      0.43        13\n",
      "   lannister       0.60      0.20      0.30        15\n",
      "   targaryen       0.60      0.69      0.64        13\n",
      "     mormont       0.35      0.86      0.50         7\n",
      "\n",
      "    accuracy                           0.56        72\n",
      "   macro avg       0.56      0.56      0.52        72\n",
      "weighted avg       0.58      0.56      0.53        72\n",
      "\n"
     ]
    }
   ],
   "source": [
    "predictions = model.predict(X_test_pad, batch_size = 10)\n",
    "print(classification_report(y_test.argmax(axis=1),\n",
    "                            predictions.argmax(axis=1),\n",
    "                            target_names=label_names))"
   ]
  }
 ],
 "metadata": {
  "kernelspec": {
   "display_name": "lang101",
   "language": "python",
   "name": "lang101"
  },
  "language_info": {
   "codemirror_mode": {
    "name": "ipython",
    "version": 3
   },
   "file_extension": ".py",
   "mimetype": "text/x-python",
   "name": "python",
   "nbconvert_exporter": "python",
   "pygments_lexer": "ipython3",
   "version": "3.6.9"
  }
 },
 "nbformat": 4,
 "nbformat_minor": 4
}
