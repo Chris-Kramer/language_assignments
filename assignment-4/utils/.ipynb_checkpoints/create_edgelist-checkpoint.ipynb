{
 "cells": [
  {
   "cell_type": "code",
   "execution_count": 2,
   "metadata": {},
   "outputs": [],
   "source": [
    "# System tools\n",
    "import os\n",
    "\n",
    "# Data analysis\n",
    "import pandas as pd\n",
    "from collections import Counter\n",
    "from itertools import combinations \n",
    "from tqdm import tqdm\n",
    "\n",
    "# NLP\n",
    "import spacy\n",
    "nlp = spacy.load(\"en_core_web_sm\")\n",
    "\n",
    "# drawing\n",
    "import networkx as nx\n",
    "import matplotlib.pyplot as plt\n",
    "plt.rcParams[\"figure.figsize\"] = (20,20)"
   ]
  },
  {
   "cell_type": "code",
   "execution_count": 4,
   "metadata": {},
   "outputs": [
    {
     "name": "stderr",
     "output_type": "stream",
     "text": [
      "  0%|          | 0/3171 [00:00<?, ?it/s]\n"
     ]
    },
    {
     "ename": "NameError",
     "evalue": "name 'post_entities' is not defined",
     "output_type": "error",
     "traceback": [
      "\u001b[0;31m---------------------------------------------------------------------------\u001b[0m",
      "\u001b[0;31mNameError\u001b[0m                                 Traceback (most recent call last)",
      "\u001b[0;32m<ipython-input-4-1ffe579defd0>\u001b[0m in \u001b[0;36m<module>\u001b[0;34m\u001b[0m\n\u001b[1;32m     17\u001b[0m             \u001b[0mtmp_entities\u001b[0m\u001b[0;34m.\u001b[0m\u001b[0mappend\u001b[0m\u001b[0;34m(\u001b[0m\u001b[0mentity\u001b[0m\u001b[0;34m.\u001b[0m\u001b[0mtext\u001b[0m\u001b[0;34m)\u001b[0m\u001b[0;34m\u001b[0m\u001b[0;34m\u001b[0m\u001b[0m\n\u001b[1;32m     18\u001b[0m     \u001b[0;31m# append temp list to main list\u001b[0m\u001b[0;34m\u001b[0m\u001b[0;34m\u001b[0m\u001b[0;34m\u001b[0m\u001b[0m\n\u001b[0;32m---> 19\u001b[0;31m     \u001b[0mpost_entities\u001b[0m\u001b[0;34m.\u001b[0m\u001b[0mappend\u001b[0m\u001b[0;34m(\u001b[0m\u001b[0mtmp_entities\u001b[0m\u001b[0;34m)\u001b[0m\u001b[0;34m\u001b[0m\u001b[0;34m\u001b[0m\u001b[0m\n\u001b[0m\u001b[1;32m     20\u001b[0m \u001b[0;34m\u001b[0m\u001b[0m\n\u001b[1;32m     21\u001b[0m \u001b[0medgelist\u001b[0m \u001b[0;34m=\u001b[0m \u001b[0;34m[\u001b[0m\u001b[0;34m]\u001b[0m\u001b[0;34m\u001b[0m\u001b[0;34m\u001b[0m\u001b[0m\n",
      "\u001b[0;31mNameError\u001b[0m: name 'post_entities' is not defined"
     ]
    }
   ],
   "source": [
    "input_file = os.path.join(\"..\", \"data\", \"raw_data\", \"fake_or_real_news.csv\")\n",
    "data = pd.read_csv(input_file)\n",
    "real_df = data[data[\"label\"]==\"REAL\"][\"text\"]\n",
    "\n",
    "text_entities = []\n",
    "\n",
    "for text in tqdm(real_df):\n",
    "    # create temporary list \n",
    "    tmp_entities = []\n",
    "    # create doc object\n",
    "    doc = nlp(text)\n",
    "    # for every named entity\n",
    "    for entity in doc.ents:\n",
    "        # if that entity is a person\n",
    "        if entity.label_ == \"PERSON\":\n",
    "            # append to temp list\n",
    "            tmp_entities.append(entity.text)\n",
    "    # append temp list to main list\n",
    "    text_entities.append(tmp_entities)\n",
    "\n",
    "edgelist = []\n",
    "# iterate over every document\n",
    "for text in text_entities:\n",
    "    # use itertools.combinations() to create edgelist\n",
    "    edges = list(combinations(text, 2))\n",
    "    # for each combination - i.e. each pair of 'nodes'\n",
    "    for edge in edges:\n",
    "        # append this to final edgelist\n",
    "        edgelist.append(tuple(sorted(edge)))\n",
    "        \n",
    "\n",
    "counted_edges = []\n",
    "for key, value in Counter(edgelist).items():\n",
    "    source = key[0]\n",
    "    target = key[1]\n",
    "    weight = value\n",
    "    counted_edges.append((source, target, weight))\n",
    "    \n",
    "edges_df = pd.DataFrame(counted_edges, columns=[\"nodeA\", \"nodeB\", \"weight\"])\n",
    "\n",
    "edges_df.to_csv(\"../data/edgelists/real_news_edgelist.csv\", index=False)"
   ]
  },
  {
   "cell_type": "code",
   "execution_count": null,
   "metadata": {},
   "outputs": [],
   "source": []
  }
 ],
 "metadata": {
  "kernelspec": {
   "display_name": "lang101",
   "language": "python",
   "name": "lang101"
  },
  "language_info": {
   "codemirror_mode": {
    "name": "ipython",
    "version": 3
   },
   "file_extension": ".py",
   "mimetype": "text/x-python",
   "name": "python",
   "nbconvert_exporter": "python",
   "pygments_lexer": "ipython3",
   "version": "3.6.9"
  }
 },
 "nbformat": 4,
 "nbformat_minor": 4
}
